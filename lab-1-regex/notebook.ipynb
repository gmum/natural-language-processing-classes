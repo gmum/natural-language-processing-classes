{
  "nbformat": 4,
  "nbformat_minor": 0,
  "metadata": {
    "colab": {
      "name": "lab-1-regex.ipynb",
      "version": "0.3.2",
      "provenance": [],
      "include_colab_link": true
    },
    "kernelspec": {
      "name": "python3",
      "display_name": "Python 3"
    }
  },
  "cells": [
    {
      "cell_type": "markdown",
      "metadata": {
        "id": "view-in-github",
        "colab_type": "text"
      },
      "source": [
        "[View in Colaboratory](https://colab.research.google.com/github/gmum/natural-language-processing-classes/blob/master/lab-1/notebook.ipynb)"
      ]
    },
    {
      "metadata": {
        "id": "ScUO69SyLhPs",
        "colab_type": "text"
      },
      "cell_type": "markdown",
      "source": [
        "# Lecture 1 - Regular expressions"
      ]
    },
    {
      "metadata": {
        "id": "eDymVYaFLhPt",
        "colab_type": "text"
      },
      "cell_type": "markdown",
      "source": [
        "<img src=\"https://imgs.xkcd.com/comics/regular_expressions.png\">"
      ]
    },
    {
      "metadata": {
        "id": "2FNmQvi8LhPv",
        "colab_type": "text"
      },
      "cell_type": "markdown",
      "source": [
        "Regex is a fantastic tool for processing data, especially for finding some patterns and extracting things like phone numbers.\n",
        "\n",
        "Syntax is shear magic, but.. if you are serious about data processing, you have to know your regex-jujitsu:"
      ]
    },
    {
      "metadata": {
        "id": "OWRD0NiFLhPx",
        "colab_type": "text"
      },
      "cell_type": "markdown",
      "source": [
        "<img src=\"https://github.com/gmum/natural-language-processing-classes/blob/master/lab-1-regex/davechild_regex.png?raw=1\">"
      ]
    },
    {
      "metadata": {
        "id": "OdXw2tmYUDFM",
        "colab_type": "code",
        "colab": {}
      },
      "cell_type": "code",
      "source": [
        "import re\n",
        "\n",
        "\n",
        "text = \"You only live once, but if you do it right, once is enough.\""
      ],
      "execution_count": 0,
      "outputs": []
    },
    {
      "metadata": {
        "id": "_ETiyc16guU_",
        "colab_type": "text"
      },
      "cell_type": "markdown",
      "source": [
        "## Recipe 1"
      ]
    },
    {
      "metadata": {
        "id": "9DIZAaxtLhPy",
        "colab_type": "code",
        "colab": {
          "base_uri": "https://localhost:8080/",
          "height": 35
        },
        "outputId": "9db96768-42a5-479b-eb40-afda6a76b0d2"
      },
      "cell_type": "code",
      "source": [
        "match = re.search('on\\w+', text)\n",
        "\n",
        "print(match.group())"
      ],
      "execution_count": 64,
      "outputs": [
        {
          "output_type": "stream",
          "text": [
            "only\n"
          ],
          "name": "stdout"
        }
      ]
    },
    {
      "metadata": {
        "id": "gujj8_whgvGp",
        "colab_type": "text"
      },
      "cell_type": "markdown",
      "source": [
        "## Recipe 2"
      ]
    },
    {
      "metadata": {
        "id": "HhMRSUeJam_X",
        "colab_type": "code",
        "colab": {
          "base_uri": "https://localhost:8080/",
          "height": 35
        },
        "outputId": "44059f88-3241-4f03-e788-3f7e1628acb8"
      },
      "cell_type": "code",
      "source": [
        "matches = re.findall('on\\w+', text)\n",
        "\n",
        "print(matches)"
      ],
      "execution_count": 62,
      "outputs": [
        {
          "output_type": "stream",
          "text": [
            "['only', 'once', 'once']\n"
          ],
          "name": "stdout"
        }
      ]
    },
    {
      "metadata": {
        "id": "qHwDlfywgv2z",
        "colab_type": "text"
      },
      "cell_type": "markdown",
      "source": [
        "## Recipe 3"
      ]
    },
    {
      "metadata": {
        "id": "-InC-sFfLhP5",
        "colab_type": "code",
        "colab": {
          "base_uri": "https://localhost:8080/",
          "height": 71
        },
        "outputId": "4c9ef133-3670-4bf0-ab81-cc64ee43abe7"
      },
      "cell_type": "code",
      "source": [
        "for m in re.finditer('on\\w+', text):\n",
        "    print('%02d-%02d: %s' % (m.start(), m.end(), m.group(0)))"
      ],
      "execution_count": 63,
      "outputs": [
        {
          "output_type": "stream",
          "text": [
            "04-08: only\n",
            "14-18: once\n",
            "44-48: once\n"
          ],
          "name": "stdout"
        }
      ]
    },
    {
      "metadata": {
        "id": "v_YO60zQLhP-",
        "colab_type": "text"
      },
      "cell_type": "markdown",
      "source": [
        "# Exercise 1 \n",
        "\n",
        "Using regular expressions, write code that will read from the file, and print out the name and phone number of each individual in format name: telephone."
      ]
    },
    {
      "metadata": {
        "id": "EFztz2TaLhP_",
        "colab_type": "code",
        "colab": {}
      },
      "cell_type": "code",
      "source": [
        "txt_file = \"\"\"Rose    416-333-4444    rose@someplace.com\n",
        "Martha  905-888-1234    martha@hotmail.com\n",
        "Donna   647-222-9876    donna@rogers.ca\n",
        "Amy 905-777-2222    amy@gmail.com\"\"\""
      ],
      "execution_count": 0,
      "outputs": []
    },
    {
      "metadata": {
        "id": "lLiipj34LhQD",
        "colab_type": "code",
        "colab": {},
        "outputId": "6981de83-686b-4c74-e465-6500e55f3c88"
      },
      "cell_type": "code",
      "source": [
        "print(txt_file.split(\"\\n\"))"
      ],
      "execution_count": 0,
      "outputs": [
        {
          "output_type": "stream",
          "text": [
            "['Rose    416-333-4444    rose@someplace.com', 'Martha  905-888-1234    martha@hotmail.com', 'Donna   647-222-9876    donna@rogers.ca', 'Amy 905-777-2222    amy@gmail.com']\n"
          ],
          "name": "stdout"
        }
      ]
    },
    {
      "metadata": {
        "id": "mSOKz0lRLhQH",
        "colab_type": "text"
      },
      "cell_type": "markdown",
      "source": [
        "# Exercise 2\n",
        "\n",
        "Give a pattern to match the following (please test them out beforehand :), for instance using Recipe 1):\n",
        "\n",
        "* Words that consist entirely of uppercase letters, and contain 5 to 8 letters.\n",
        "\n",
        "* Words that begin with an uppercase letter, followed by any number (including zero!) of lowercase letters."
      ]
    },
    {
      "metadata": {
        "id": "akjfJ9qEZwXR",
        "colab_type": "code",
        "colab": {}
      },
      "cell_type": "code",
      "source": [
        ""
      ],
      "execution_count": 0,
      "outputs": []
    }
  ]
}
