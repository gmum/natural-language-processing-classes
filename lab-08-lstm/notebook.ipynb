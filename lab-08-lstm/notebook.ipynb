{
  "nbformat": 4,
  "nbformat_minor": 0,
  "metadata": {
    "colab": {
      "name": "lab-8-lstm.ipynb",
      "version": "0.3.2",
      "provenance": [],
      "include_colab_link": true
    },
    "kernelspec": {
      "display_name": "Python 3",
      "language": "python",
      "name": "python3"
    }
  },
  "cells": [
    {
      "cell_type": "markdown",
      "metadata": {
        "id": "view-in-github",
        "colab_type": "text"
      },
      "source": [
        "<a href=\"https://colab.research.google.com/github/gmum/natural-language-processing-classes/blob/master/lab-8-lstm/notebook.ipynb\" target=\"_parent\"><img src=\"https://colab.research.google.com/assets/colab-badge.svg\" alt=\"Open In Colab\"/></a>"
      ]
    },
    {
      "metadata": {
        "id": "KxQkWe06C5VP",
        "colab_type": "text"
      },
      "cell_type": "markdown",
      "source": [
        "# Lab 8 - Long-Short Term Memory Networks (LSTM's)\n",
        "\n",
        "## Disadvantages of RNN's\n",
        "\n",
        "1. The Problem of Long-Term Dependencies. (check [this](http://colah.github.io/posts/2015-08-Understanding-LSTMs/))\n",
        "2. The Vanishing Gradient Problem. (check [this](https://cs224d.stanford.edu/notebooks/vanishing_grad_example.html) and [this](http://harinisuresh.com/2016/10/09/lstms/))"
      ]
    },
    {
      "metadata": {
        "id": "xfAiEMYBB27A",
        "colab_type": "text"
      },
      "cell_type": "markdown",
      "source": [
        "\n",
        "## Long-Short Term Memory Networks\n",
        "\n",
        "Based on pytorch tutorial written by Robert Guthrie.\n",
        "\n",
        "At this point, we have seen various feed-forward networks. That is,\n",
        "there is no state maintained by the network at all. This might not be\n",
        "the behavior we want. Sequence models are central to NLP: they are\n",
        "models where there is some sort of dependence through time between your\n",
        "inputs. The classical example of a sequence model is the Hidden Markov\n",
        "Model for part-of-speech tagging. Another example is the conditional\n",
        "random field.\n",
        "\n",
        "A recurrent neural network is a network that maintains some kind of\n",
        "state. For example, its output could be used as part of the next input,\n",
        "so that information can propogate along as the network passes over the\n",
        "sequence. In the case of an LSTM, for each element in the sequence,\n",
        "there is a corresponding *hidden state* $h_t$, which in principle\n",
        "can contain information from arbitrary points earlier in the sequence.\n",
        "We can use the hidden state to predict words in a language model,\n",
        "part-of-speech tags, and a myriad of other things.\n",
        "\n",
        "\n",
        "### LSTM's in Pytorch\n",
        "\n",
        "Before getting to the example, note a few things. Pytorch's LSTM expects\n",
        "all of its inputs to be 3D tensors. The semantics of the axes of these\n",
        "tensors is important. The first axis is the sequence itself, the second\n",
        "indexes instances in the mini-batch, and the third indexes elements of\n",
        "the input. We haven't discussed mini-batching, so lets just ignore that\n",
        "and assume we will always have just 1 dimension on the second axis. If\n",
        "we want to run the sequence model over the sentence \"The cow jumped\",\n",
        "our input should look like\n",
        "\n",
        "\\begin{align}\\begin{bmatrix}\n",
        "   \\overbrace{q_\\text{The}}^\\text{row vector} \\\\\n",
        "   q_\\text{cow} \\\\\n",
        "   q_\\text{jumped}\n",
        "   \\end{bmatrix}\\end{align}\n",
        "\n",
        "Except remember there is an additional 2nd dimension with size 1.\n",
        "\n",
        "In addition, you could go through the sequence one at a time, in which\n",
        "case the 1st axis will have size 1 also.\n",
        "\n",
        "Let's see a quick example.\n",
        "\n"
      ]
    },
    {
      "metadata": {
        "id": "05cu_GTsB27A",
        "colab_type": "code",
        "colab": {
          "base_uri": "https://localhost:8080/",
          "height": 34
        },
        "outputId": "148d98b1-4664-44b9-b0c3-a486f3748b74"
      },
      "cell_type": "code",
      "source": [
        "# http://pytorch.org/\n",
        "from os.path import exists\n",
        "from wheel.pep425tags import get_abbr_impl, get_impl_ver, get_abi_tag\n",
        "platform = '{}{}-{}'.format(get_abbr_impl(), get_impl_ver(), get_abi_tag())\n",
        "cuda_output = !ldconfig -p|grep cudart.so|sed -e 's/.*\\.\\([0-9]*\\)\\.\\([0-9]*\\)$/cu\\1\\2/'\n",
        "accelerator = cuda_output[0] if exists('/dev/nvidia0') else 'cpu'\n",
        "\n",
        "!pip install -q http://download.pytorch.org/whl/{accelerator}/torch-0.4.1-{platform}-linux_x86_64.whl torchvision\n",
        "import torch\n",
        "import torch.nn as nn\n",
        "import torch.nn.functional as F\n",
        "import torch.optim as optim\n",
        "\n",
        "torch.manual_seed(1)"
      ],
      "execution_count": 91,
      "outputs": [
        {
          "output_type": "execute_result",
          "data": {
            "text/plain": [
              "<torch._C.Generator at 0x7f80e0b4bd50>"
            ]
          },
          "metadata": {
            "tags": []
          },
          "execution_count": 91
        }
      ]
    },
    {
      "metadata": {
        "id": "XBq7yMMTB27F",
        "colab_type": "code",
        "colab": {
          "base_uri": "https://localhost:8080/",
          "height": 263
        },
        "outputId": "0e71a0b8-b350-48b4-9693-da8acb2b6c14"
      },
      "cell_type": "code",
      "source": [
        "lstm = nn.LSTM(3, 3)  # Input dim is 3, output dim is 3\n",
        "inputs = [torch.randn(1, 3) for _ in range(5)]  # make a sequence of length 5\n",
        "\n",
        "# initialize the hidden state.\n",
        "hidden = (torch.randn(1, 1, 3),\n",
        "          torch.randn(1, 1, 3))\n",
        "for i in inputs:\n",
        "    # Step through the sequence one element at a time.\n",
        "    # after each step, hidden contains the hidden state.\n",
        "    out, hidden = lstm(i.view(1, 1, -1), hidden)\n",
        "\n",
        "# alternatively, we can do the entire sequence all at once.\n",
        "# the first value returned by LSTM is all of the hidden states throughout\n",
        "# the sequence. the second is just the most recent hidden state\n",
        "# (compare the last slice of \"out\" with \"hidden\" below, they are the same)\n",
        "# The reason for this is that:\n",
        "# \"out\" will give you access to all hidden states in the sequence\n",
        "# \"hidden\" will allow you to continue the sequence and backpropagate,\n",
        "# by passing it as an argument  to the lstm at a later time\n",
        "# Add the extra 2nd dimension\n",
        "inputs = torch.cat(inputs).view(len(inputs), 1, -1)\n",
        "hidden = (torch.randn(1, 1, 3), torch.randn(1, 1, 3))  # clean out hidden state\n",
        "out, hidden = lstm(inputs, hidden)\n",
        "print(f'out size: {out.size()}')\n",
        "print(f'out: {out}')\n",
        "print()\n",
        "for h in hidden:\n",
        "  print(f'hidden size: {h.size()}')\n",
        "print(f'hidden: {hidden}')"
      ],
      "execution_count": 92,
      "outputs": [
        {
          "output_type": "stream",
          "text": [
            "out size: torch.Size([5, 1, 3])\n",
            "out: tensor([[[-0.0187,  0.1713, -0.2944]],\n",
            "\n",
            "        [[-0.3521,  0.1026, -0.2971]],\n",
            "\n",
            "        [[-0.3191,  0.0781, -0.1957]],\n",
            "\n",
            "        [[-0.1634,  0.0941, -0.1637]],\n",
            "\n",
            "        [[-0.3368,  0.0959, -0.0538]]], grad_fn=<CatBackward>)\n",
            "\n",
            "hidden size: torch.Size([1, 1, 3])\n",
            "hidden size: torch.Size([1, 1, 3])\n",
            "hidden: (tensor([[[-0.3368,  0.0959, -0.0538]]], grad_fn=<ViewBackward>), tensor([[[-0.9825,  0.4715, -0.0633]]], grad_fn=<ViewBackward>))\n"
          ],
          "name": "stdout"
        }
      ]
    },
    {
      "metadata": {
        "id": "r3-FB6S9B27I",
        "colab_type": "text"
      },
      "cell_type": "markdown",
      "source": [
        "### Example: An LSTM for Part-of-Speech Tagging\n",
        "\n",
        "In this section, we will use an LSTM to get part of speech tags.\n",
        "\n",
        "The model is as follows: let our input sentence be\n",
        "$w_1, \\dots, w_M$, where $w_i \\in V$, our vocab. Also, let\n",
        "$T$ be our tag set, and $y_i$ the tag of word $w_i$.\n",
        "Denote our prediction of the tag of word $w_i$ by\n",
        "$\\hat{y}_i$.\n",
        "\n",
        "This is a structure prediction, model, where our output is a sequence\n",
        "$\\hat{y}_1, \\dots, \\hat{y}_M$, where $\\hat{y}_i \\in T$.\n",
        "\n",
        "To do the prediction, pass an LSTM over the sentence. Denote the hidden\n",
        "state at timestep $i$ as $h_i$. Also, assign each tag a\n",
        "unique index (like how we had word\\_to\\_ix in the word embeddings\n",
        "section). Then our prediction rule for $\\hat{y}_i$ is\n",
        "\n",
        "\\begin{align}\\hat{y}_i = \\text{argmax}_j \\  (\\log \\text{Softmax}(Ah_i + b))_j\\end{align}\n",
        "\n",
        "That is, take the log softmax of the affine map of the hidden state,\n",
        "and the predicted tag is the tag that has the maximum value in this\n",
        "vector. Note this implies immediately that the dimensionality of the\n",
        "target space of $A$ is $|T|$.\n",
        "\n",
        "\n",
        "Prepare data:\n",
        "\n"
      ]
    },
    {
      "metadata": {
        "id": "Clsu8LC0B27I",
        "colab_type": "code",
        "colab": {
          "base_uri": "https://localhost:8080/",
          "height": 34
        },
        "outputId": "28d1feef-66fe-478f-8881-06acac9c6549"
      },
      "cell_type": "code",
      "source": [
        "def prepare_sequence(seq, to_ix):\n",
        "    idxs = [to_ix[w] for w in seq]\n",
        "    return torch.tensor(idxs, dtype=torch.long)\n",
        "\n",
        "\n",
        "training_data = [\n",
        "    (\"The dog ate the apple\".split(), [\"DET\", \"NN\", \"V\", \"DET\", \"NN\"]),\n",
        "    (\"Everybody read that book\".split(), [\"NN\", \"V\", \"DET\", \"NN\"])\n",
        "]\n",
        "word_to_ix = {}\n",
        "for sent, tags in training_data:\n",
        "    for word in sent:\n",
        "        if word not in word_to_ix:\n",
        "            word_to_ix[word] = len(word_to_ix)\n",
        "print(word_to_ix)\n",
        "tag_to_ix = {\"DET\": 0, \"NN\": 1, \"V\": 2}\n",
        "\n",
        "# These will usually be more like 32 or 64 dimensional.\n",
        "# We will keep them small, so we can see how the weights change as we train.\n",
        "EMBEDDING_DIM = 6\n",
        "HIDDEN_DIM = 6"
      ],
      "execution_count": 93,
      "outputs": [
        {
          "output_type": "stream",
          "text": [
            "{'The': 0, 'dog': 1, 'ate': 2, 'the': 3, 'apple': 4, 'Everybody': 5, 'read': 6, 'that': 7, 'book': 8}\n"
          ],
          "name": "stdout"
        }
      ]
    },
    {
      "metadata": {
        "id": "rAaJ5TiWB27L",
        "colab_type": "text"
      },
      "cell_type": "markdown",
      "source": [
        "Create the model:\n",
        "\n"
      ]
    },
    {
      "metadata": {
        "id": "bq4EMaFNB27N",
        "colab_type": "code",
        "colab": {}
      },
      "cell_type": "code",
      "source": [
        "class LSTMTagger(nn.Module):\n",
        "\n",
        "    def __init__(self, embedding_dim, hidden_dim, vocab_size, tagset_size):\n",
        "        super(LSTMTagger, self).__init__()\n",
        "        self.hidden_dim = hidden_dim\n",
        "\n",
        "        self.word_embeddings = nn.Embedding(vocab_size, embedding_dim)\n",
        "\n",
        "        # The LSTM takes word embeddings as inputs, and outputs hidden states\n",
        "        # with dimensionality hidden_dim.\n",
        "        self.lstm = nn.LSTM(embedding_dim, hidden_dim)\n",
        "\n",
        "        # The linear layer that maps from hidden state space to tag space\n",
        "        self.hidden2tag = nn.Linear(hidden_dim, tagset_size)\n",
        "        self.hidden = self.init_hidden()\n",
        "\n",
        "    def init_hidden(self):\n",
        "        # Before we've done anything, we dont have any hidden state.\n",
        "        # Refer to the Pytorch documentation to see exactly\n",
        "        # why they have this dimensionality.\n",
        "        # The axes semantics are (num_layers, minibatch_size, hidden_dim)\n",
        "        return (torch.zeros(1, 1, self.hidden_dim),\n",
        "                torch.zeros(1, 1, self.hidden_dim))\n",
        "\n",
        "    def forward(self, sentence):\n",
        "        embeds = self.word_embeddings(sentence)\n",
        "        lstm_out, self.hidden = self.lstm(\n",
        "            embeds.view(len(sentence), 1, -1), self.hidden)\n",
        "        tag_space = self.hidden2tag(lstm_out.view(len(sentence), -1))\n",
        "        tag_scores = F.log_softmax(tag_space, dim=1)\n",
        "        return tag_scores"
      ],
      "execution_count": 0,
      "outputs": []
    },
    {
      "metadata": {
        "id": "SfjWs9pJB27P",
        "colab_type": "text"
      },
      "cell_type": "markdown",
      "source": [
        "Train the model:\n",
        "\n"
      ]
    },
    {
      "metadata": {
        "id": "MQZQAMMqB27Q",
        "colab_type": "code",
        "colab": {
          "base_uri": "https://localhost:8080/",
          "height": 193
        },
        "outputId": "c874ae01-f9fc-48e6-c891-5efd952bce0d"
      },
      "cell_type": "code",
      "source": [
        "model = LSTMTagger(EMBEDDING_DIM, HIDDEN_DIM, len(word_to_ix), len(tag_to_ix))\n",
        "loss_function = nn.NLLLoss()\n",
        "optimizer = optim.SGD(model.parameters(), lr=0.1)\n",
        "\n",
        "# See what the scores are before training\n",
        "# Note that element i,j of the output is the score for tag j for word i.\n",
        "# Here we don't need to train, so the code is wrapped in torch.no_grad()\n",
        "with torch.no_grad():\n",
        "    inputs = prepare_sequence(training_data[0][0], word_to_ix)\n",
        "    tag_scores = model(inputs)\n",
        "    print(tag_scores)\n",
        "\n",
        "for epoch in range(300):  # again, normally you would NOT do 300 epochs, it is toy data\n",
        "    for sentence, tags in training_data:\n",
        "        # Step 1. Remember that Pytorch accumulates gradients.\n",
        "        # We need to clear them out before each instance\n",
        "        model.zero_grad()\n",
        "\n",
        "        # Also, we need to clear out the hidden state of the LSTM,\n",
        "        # detaching it from its history on the last instance.\n",
        "        model.hidden = model.init_hidden()\n",
        "\n",
        "        # Step 2. Get our inputs ready for the network, that is, turn them into\n",
        "        # Tensors of word indices.\n",
        "        sentence_in = prepare_sequence(sentence, word_to_ix)\n",
        "        targets = prepare_sequence(tags, tag_to_ix)\n",
        "\n",
        "        # Step 3. Run our forward pass.\n",
        "        tag_scores = model(sentence_in)\n",
        "\n",
        "        # Step 4. Compute the loss, gradients, and update the parameters by\n",
        "        #  calling optimizer.step()\n",
        "        loss = loss_function(tag_scores, targets)\n",
        "        loss.backward()\n",
        "        optimizer.step()\n",
        "\n",
        "# See what the scores are after training\n",
        "with torch.no_grad():\n",
        "    inputs = prepare_sequence(training_data[0][0], word_to_ix)\n",
        "    tag_scores = model(inputs)\n",
        "\n",
        "    # The sentence is \"the dog ate the apple\".  i,j corresponds to score for tag j\n",
        "    # for word i. The predicted tag is the maximum scoring tag.\n",
        "    # Here, we can see the predicted sequence below is 0 1 2 0 1\n",
        "    # since 0 is index of the maximum value of row 1,\n",
        "    # 1 is the index of maximum value of row 2, etc.\n",
        "    # Which is DET NOUN VERB DET NOUN, the correct sequence!\n",
        "    print(tag_scores)"
      ],
      "execution_count": 97,
      "outputs": [
        {
          "output_type": "stream",
          "text": [
            "tensor([[-1.3852, -0.9624, -1.0003],\n",
            "        [-1.3570, -1.1749, -0.8354],\n",
            "        [-1.3794, -1.2678, -0.7618],\n",
            "        [-1.3699, -1.1893, -0.8177],\n",
            "        [-1.3667, -1.2508, -0.7792]])\n",
            "tensor([[-0.0996, -2.9313, -3.1838],\n",
            "        [-5.1570, -0.0110, -5.2682],\n",
            "        [-3.9731, -4.3701, -0.0320],\n",
            "        [-0.0234, -4.4200, -4.5014],\n",
            "        [-4.6125, -0.0127, -5.9011]])\n"
          ],
          "name": "stdout"
        }
      ]
    },
    {
      "metadata": {
        "id": "NH98CwDOB27T",
        "colab_type": "text"
      },
      "cell_type": "markdown",
      "source": [
        "## Exercise (2pt)\n",
        "\n",
        "\n",
        "In the example above, each word had an embedding, which served as the\n",
        "inputs to our sequence model. Let's augment the word embeddings with a\n",
        "representation derived from the characters of the word. We expect that\n",
        "this should help significantly, since character-level information like\n",
        "affixes have a large bearing on part-of-speech. For example, words with\n",
        "the affix *-ly* are almost always tagged as adverbs in English.\n",
        "\n",
        "To do this, let $c_w$ be the character-level representation of\n",
        "word $w$. Let $x_w$ be the word embedding as before. Then\n",
        "the input to our sequence model is the concatenation of $x_w$ and\n",
        "$c_w$. So if $x_w$ has dimension 5, and $c_w$\n",
        "dimension 3, then our LSTM should accept an input of dimension 8.\n",
        "\n",
        "To get the character level representation, do an LSTM over the\n",
        "characters of a word, and let $c_w$ be the final hidden state of\n",
        "this LSTM. Hints:\n",
        "\n",
        "* There are going to be two LSTM's in your new model.\n",
        "  The original one that outputs POS tag scores, and the new one that\n",
        "  outputs a character-level representation of each word.\n",
        "* To do a sequence model over characters, you will have to embed characters.\n",
        "  The character embeddings will be the input to the character LSTM.\n",
        "\n",
        "\n"
      ]
    },
    {
      "metadata": {
        "id": "ojb83oRiwyki",
        "colab_type": "code",
        "colab": {}
      },
      "cell_type": "code",
      "source": [
        ""
      ],
      "execution_count": 0,
      "outputs": []
    }
  ]
}