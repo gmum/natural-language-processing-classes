{
  "nbformat": 4,
  "nbformat_minor": 0,
  "metadata": {
    "colab": {
      "name": "lab-1-regex.ipynb",
      "version": "0.3.2",
      "provenance": [],
      "include_colab_link": true
    },
    "kernelspec": {
      "name": "python3",
      "display_name": "Python 3"
    }
  },
  "cells": [
    {
      "cell_type": "markdown",
      "metadata": {
        "id": "view-in-github",
        "colab_type": "text"
      },
      "source": [
        "[View in Colaboratory](https://colab.research.google.com/github/gmum/natural-language-processing-classes/blob/master/lab-1-regex/notebook.ipynb)"
      ]
    },
    {
      "metadata": {
        "id": "ScUO69SyLhPs",
        "colab_type": "text"
      },
      "cell_type": "markdown",
      "source": [
        "# Lecture 1 - Regular expressions"
      ]
    },
    {
      "metadata": {
        "id": "eDymVYaFLhPt",
        "colab_type": "text"
      },
      "cell_type": "markdown",
      "source": [
        "<img src=\"https://imgs.xkcd.com/comics/regular_expressions.png\">"
      ]
    },
    {
      "metadata": {
        "id": "2FNmQvi8LhPv",
        "colab_type": "text"
      },
      "cell_type": "markdown",
      "source": [
        "Regex is a fantastic tool for processing data, especially for finding some patterns and extracting things like phone numbers.\n",
        "\n",
        "Syntax is shear magic, but.. if you are serious about data processing, you have to know your regex-jujitsu:"
      ]
    },
    {
      "metadata": {
        "id": "OWRD0NiFLhPx",
        "colab_type": "text"
      },
      "cell_type": "markdown",
      "source": [
        "<img src=\"https://github.com/gmum/natural-language-processing-classes/blob/master/lab-1-regex/davechild_regex.png?raw=1\">"
      ]
    },
    {
      "metadata": {
        "id": "OdXw2tmYUDFM",
        "colab_type": "code",
        "colab": {}
      },
      "cell_type": "code",
      "source": [
        "import re\n",
        "\n",
        "text = \"You only live once, but if you do it right, once is enough.\""
      ],
      "execution_count": 0,
      "outputs": []
    },
    {
      "metadata": {
        "id": "_ETiyc16guU_",
        "colab_type": "text"
      },
      "cell_type": "markdown",
      "source": [
        "## Recipe 1"
      ]
    },
    {
      "metadata": {
        "id": "9DIZAaxtLhPy",
        "colab_type": "code",
        "colab": {
          "base_uri": "https://localhost:8080/",
          "height": 35
        },
        "outputId": "4159ff52-f1dc-4c6e-b8ce-bf1e08572680"
      },
      "cell_type": "code",
      "source": [
        "match = re.search(r'on\\w+', text)\n",
        "\n",
        "print(match.group())"
      ],
      "execution_count": 10,
      "outputs": [
        {
          "output_type": "stream",
          "text": [
            "only\n"
          ],
          "name": "stdout"
        }
      ]
    },
    {
      "metadata": {
        "id": "gujj8_whgvGp",
        "colab_type": "text"
      },
      "cell_type": "markdown",
      "source": [
        "## Recipe 2"
      ]
    },
    {
      "metadata": {
        "id": "HhMRSUeJam_X",
        "colab_type": "code",
        "colab": {
          "base_uri": "https://localhost:8080/",
          "height": 35
        },
        "outputId": "ad48e8f2-4c5d-40bd-aa32-fe97f2b26c94"
      },
      "cell_type": "code",
      "source": [
        "matches = re.findall(r'on\\w+', text)\n",
        "\n",
        "print(matches)"
      ],
      "execution_count": 11,
      "outputs": [
        {
          "output_type": "stream",
          "text": [
            "['only', 'once', 'once']\n"
          ],
          "name": "stdout"
        }
      ]
    },
    {
      "metadata": {
        "id": "qHwDlfywgv2z",
        "colab_type": "text"
      },
      "cell_type": "markdown",
      "source": [
        "## Recipe 3"
      ]
    },
    {
      "metadata": {
        "id": "-InC-sFfLhP5",
        "colab_type": "code",
        "colab": {
          "base_uri": "https://localhost:8080/",
          "height": 71
        },
        "outputId": "4178e43a-8900-40c8-d352-ab5a1ec1b126"
      },
      "cell_type": "code",
      "source": [
        "for m in re.finditer(r'on\\w+', text):\n",
        "    print('%02d-%02d: %s' % (m.start(), m.end(), m.group(0)))"
      ],
      "execution_count": 12,
      "outputs": [
        {
          "output_type": "stream",
          "text": [
            "04-08: only\n",
            "14-18: once\n",
            "44-48: once\n"
          ],
          "name": "stdout"
        }
      ]
    },
    {
      "metadata": {
        "id": "LfUV4PMcb4aY",
        "colab_type": "text"
      },
      "cell_type": "markdown",
      "source": [
        "## Why r before string?\n",
        "\n",
        "If you do not use raw formatting of strings, some strings with backslashes will be converted by Python to a format which regex does not support"
      ]
    },
    {
      "metadata": {
        "id": "oI3teX2icv9X",
        "colab_type": "code",
        "colab": {
          "base_uri": "https://localhost:8080/",
          "height": 71
        },
        "outputId": "23babe42-c553-4965-ce47-019fef500311"
      },
      "cell_type": "code",
      "source": [
        "str_1 = '\\b\\w+\\b'\n",
        "str_2 = r'\\b\\w+\\b'\n",
        "str_3 = '\\\\b\\\\w+\\\\b'\n",
        "\n",
        "print(re.findall(str_1, text))\n",
        "print(re.findall(str_2, text)) \n",
        "print(re.findall(str_3, text)) "
      ],
      "execution_count": 9,
      "outputs": [
        {
          "output_type": "stream",
          "text": [
            "[]\n",
            "['You', 'only', 'live', 'once', 'but', 'if', 'you', 'do', 'it', 'right', 'once', 'is', 'enough']\n",
            "['You', 'only', 'live', 'once', 'but', 'if', 'you', 'do', 'it', 'right', 'once', 'is', 'enough']\n"
          ],
          "name": "stdout"
        }
      ]
    },
    {
      "metadata": {
        "id": "v_YO60zQLhP-",
        "colab_type": "text"
      },
      "cell_type": "markdown",
      "source": [
        "# Exercise 1 \n",
        "\n",
        "Using regular expressions, write code that will read from the file, and print out the name and phone number of each individual in format **name: telephone**."
      ]
    },
    {
      "metadata": {
        "id": "EFztz2TaLhP_",
        "colab_type": "code",
        "colab": {}
      },
      "cell_type": "code",
      "source": [
        "txt_file = \"\"\"Rose    416-333-4444    rose@someplace.com\n",
        "Martha  905-888-1234    martha@hotmail.com\n",
        "Donna   647-222-9876    donna@rogers.ca\n",
        "Amy 905-777-2222    amy@gmail.com\"\"\""
      ],
      "execution_count": 0,
      "outputs": []
    },
    {
      "metadata": {
        "id": "lLiipj34LhQD",
        "colab_type": "code",
        "colab": {
          "base_uri": "https://localhost:8080/",
          "height": 35
        },
        "outputId": "e59f7a92-5a5d-47be-9441-dc35741f1c1e"
      },
      "cell_type": "code",
      "source": [
        "print(txt_file.split(\"\\n\"))"
      ],
      "execution_count": 7,
      "outputs": [
        {
          "output_type": "stream",
          "text": [
            "['Rose    416-333-4444    rose@someplace.com', 'Martha  905-888-1234    martha@hotmail.com', 'Donna   647-222-9876    donna@rogers.ca', 'Amy 905-777-2222    amy@gmail.com']\n"
          ],
          "name": "stdout"
        }
      ]
    },
    {
      "metadata": {
        "id": "4R3D7vWEfRup",
        "colab_type": "code",
        "colab": {}
      },
      "cell_type": "code",
      "source": [
        "#Solution\n"
      ],
      "execution_count": 0,
      "outputs": []
    },
    {
      "metadata": {
        "id": "mSOKz0lRLhQH",
        "colab_type": "text"
      },
      "cell_type": "markdown",
      "source": [
        "# Exercise 2\n",
        "\n",
        "Give a pattern to match the following:\n",
        "\n",
        "* Words that begin with an uppercase letter, followed by any number (including zero!) of lowercase letters.\n",
        "\n",
        "* Strings containing two words: \"I\" and a word that has at least one \"a\", \"i\" or \"e\" letter\n",
        "\n"
      ]
    },
    {
      "metadata": {
        "id": "akjfJ9qEZwXR",
        "colab_type": "code",
        "colab": {}
      },
      "cell_type": "code",
      "source": [
        "text_2 = \"\"\"This tale grew in the telling, until it became a history of the Great War of\n",
        "the Ring and included many glimpses of the yet more ancient history that\n",
        "preceded it. It was begun soon after _The Hobbit_ was written and before its\n",
        "publication in 1937; but I did not go on with this sequel, for I wished first\n",
        "to complete and set in order the mythology and legends of the Elder Days,\n",
        "which had then been taking shape for some years. I desired to do this for my\n",
        "own satisfaction, and I had little hope that other people would be interested\n",
        "in this work, especially since it was primarily linguistic in inspiration and\n",
        "was begun in order to provide the necessary background of 'history' for Elvish\n",
        "tongues. When those whose advice and opinion I sought corrected _little hope_ to\n",
        "_no hope,_ I went back to the sequel, encouraged by requests from readers for\n",
        "more information concerning hobbits and their adventures. But the story was\n",
        "drawn irresistibly towards the older world, and became an account, as it were,\n",
        "of its end and passing away before its beginning and middle had been told. The\n",
        "process had begun in the writing of _The Hobbit,_ in which there were already\n",
        "some references to the older matter: Elrond, Gondolin, the High-elves, and the\n",
        "orcs, as well as glimpses that had arisen unbidden of things higher or deeper\n",
        "or darker than its surface: Durin, Moria, Gandalf, the Necromancer, the Ring.\n",
        "The discovery of the significance of these glimpses and of their relation to\n",
        "the ancient histories revealed the Third Age and its culmination in the War of\n",
        "the Ring.\"\"\".replace('\\n', ' ')"
      ],
      "execution_count": 0,
      "outputs": []
    },
    {
      "metadata": {
        "id": "wACLCUH1GMXp",
        "colab_type": "code",
        "colab": {}
      },
      "cell_type": "code",
      "source": [
        "pattern_1 = r''\n",
        "pattern_2 = r''\n",
        "\n",
        "result_1 = re.findall(pattern_1, text_2)\n",
        "result_2 = re.findall(pattern_2, text_2)"
      ],
      "execution_count": 0,
      "outputs": []
    },
    {
      "metadata": {
        "id": "K-gkN4mfaEqL",
        "colab_type": "code",
        "colab": {
          "base_uri": "https://localhost:8080/",
          "height": 241
        },
        "outputId": "9b0ffe10-81b4-4b1f-a803-df3b24d45857"
      },
      "cell_type": "code",
      "source": [
        "assert result_1 == ['This', 'Great', 'War', 'Ring', 'It', 'I', 'I', 'Elder',\n",
        "                    'Days', 'I', 'I', 'Elvish', 'When', 'I', 'I', 'But', 'The',\n",
        "                    'Hobbit', 'Elrond', 'Gondolin', 'High', 'Durin', 'Moria', \n",
        "                    'Gandalf', 'Necromancer', 'Ring', 'The', 'Third', 'Age',\n",
        "                    'War', 'Ring']\n",
        "\n",
        "assert result_2 == ['I did', 'I wished', 'I desired', 'I had', 'I went']\n",
        "print(\"Well done!\")"
      ],
      "execution_count": 131,
      "outputs": [
        {
          "output_type": "error",
          "ename": "AssertionError",
          "evalue": "ignored",
          "traceback": [
            "\u001b[0;31m---------------------------------------------------------------------------\u001b[0m",
            "\u001b[0;31mAssertionError\u001b[0m                            Traceback (most recent call last)",
            "\u001b[0;32m<ipython-input-131-43c9252a7fee>\u001b[0m in \u001b[0;36m<module>\u001b[0;34m()\u001b[0m\n\u001b[1;32m      3\u001b[0m                     \u001b[0;34m'Hobbit'\u001b[0m\u001b[0;34m,\u001b[0m \u001b[0;34m'Elrond'\u001b[0m\u001b[0;34m,\u001b[0m \u001b[0;34m'Gondolin'\u001b[0m\u001b[0;34m,\u001b[0m \u001b[0;34m'High'\u001b[0m\u001b[0;34m,\u001b[0m \u001b[0;34m'Durin'\u001b[0m\u001b[0;34m,\u001b[0m \u001b[0;34m'Moria'\u001b[0m\u001b[0;34m,\u001b[0m\u001b[0;34m\u001b[0m\u001b[0m\n\u001b[1;32m      4\u001b[0m                     \u001b[0;34m'Gandalf'\u001b[0m\u001b[0;34m,\u001b[0m \u001b[0;34m'Necromancer'\u001b[0m\u001b[0;34m,\u001b[0m \u001b[0;34m'Ring'\u001b[0m\u001b[0;34m,\u001b[0m \u001b[0;34m'The'\u001b[0m\u001b[0;34m,\u001b[0m \u001b[0;34m'Third'\u001b[0m\u001b[0;34m,\u001b[0m \u001b[0;34m'Age'\u001b[0m\u001b[0;34m,\u001b[0m\u001b[0;34m\u001b[0m\u001b[0m\n\u001b[0;32m----> 5\u001b[0;31m                     'War', 'Ring']\n\u001b[0m\u001b[1;32m      6\u001b[0m \u001b[0;34m\u001b[0m\u001b[0m\n\u001b[1;32m      7\u001b[0m \u001b[0;32massert\u001b[0m \u001b[0mresult_2\u001b[0m \u001b[0;34m==\u001b[0m \u001b[0;34m[\u001b[0m\u001b[0;34m'I did'\u001b[0m\u001b[0;34m,\u001b[0m \u001b[0;34m'I wished'\u001b[0m\u001b[0;34m,\u001b[0m \u001b[0;34m'I desired'\u001b[0m\u001b[0;34m,\u001b[0m \u001b[0;34m'I had'\u001b[0m\u001b[0;34m,\u001b[0m \u001b[0;34m'I went'\u001b[0m\u001b[0;34m]\u001b[0m\u001b[0;34m\u001b[0m\u001b[0m\n",
            "\u001b[0;31mAssertionError\u001b[0m: "
          ]
        }
      ]
    },
    {
      "metadata": {
        "id": "QVglNPNR6Fvs",
        "colab_type": "text"
      },
      "cell_type": "markdown",
      "source": [
        "# Exercise 3\n",
        "\n",
        "Write code that takes given text and use regex to:\n",
        "- find all words starting with letter \"a\" and return the longest one\n",
        "- find all words ending with \"ing\" with length smaller than 5\n",
        "- return the number of 6-letter words in the document\n",
        "- find all words starting with an uppercase letter, which is not \"A\" or \"B\""
      ]
    },
    {
      "metadata": {
        "id": "p0NmvBRn6E9k",
        "colab_type": "code",
        "colab": {}
      },
      "cell_type": "code",
      "source": [
        "text_3 = \"\"\"King. He felt better at once,' said Gandalf. 'But there is only one Power in\n",
        "this world that knows all about the Rings and their effects; and as far as I\n",
        "know there is no Power in the world that knows all about hobbits. Among the\n",
        "Wise I am the only one that goes in for hobbit-lore: an obscure branch of\n",
        "knowledge, but full of surprises. Soft as butter they can be, and yet\n",
        "sometimes as tough as old tree-roots. I think it likely that some would resist\n",
        "the Rings far longer than most of the Wise would believe. I don't think you\n",
        "need worry about Bilbo.\n",
        " 'Of course, he possessed the ring for many years, and used it, so it\n",
        "might take a long while for the influence to wear off – before it was safe for\n",
        "him to see it again, for instance. Otherwise, he might live on for years,\n",
        "quite happily: just stop as he was when he parted with it. For he gave it up\n",
        "in the end of his own accord: an important point. No, I was not troubled about\n",
        "dear Bilbo any more, once he had let the thing go. It is for _you_ that I feel\n",
        "responsible.\n",
        " 'Ever since Bilbo left I have been deeply concerned about you, and about\n",
        "all these charming, absurd, helpless hobbits. It would be a grievous blow to\n",
        "the world, if the Dark Power overcame the Shire; if all your kind, jolly,\n",
        "stupid Bolgers, Hornblowers, Boffins, Bracegirdles, and the rest, not to\n",
        "mention the ridiculous Bagginses, became enslaved.'\n",
        " Frodo shuddered. 'But why should we be?' he asked. 'And why should he\n",
        "want such slaves?'\n",
        " 'To tell you the truth,' replied Gandalf, 'I believe that hitherto –\n",
        "_hitherto,_mark you – he has entirely overlooked the existence of hobbits. You\n",
        "should be thankful. But your safety has passed. He does not need you – he has\n",
        "many more useful servants – but he won't forget you again. And hobbits as\n",
        "miserable slaves would please him far more than hobbits happy and free. There\n",
        "is such a thing as malice and revenge.'\n",
        " 'Revenge?' said Frodo. 'Revenge for what? I still don't understand what\n",
        "all this has to do with Bilbo and myself, and our ring.'\n",
        " 'It has everything to do with it,' said Gandalf. 'You do not know the\n",
        "real peril yet; but you shall. I was not sure of it myself when I was last\n",
        "here; but the time has come to speak. Give me the ring for a moment.\n",
        "\"\"\".replace('\\n', ' ')"
      ],
      "execution_count": 0,
      "outputs": []
    },
    {
      "metadata": {
        "id": "0ZwHyhvH9jfM",
        "colab_type": "code",
        "colab": {}
      },
      "cell_type": "code",
      "source": [
        "pattern_1 = \n",
        "pattern_2 = \n",
        "pattern_3 = \n",
        "pattern_4 = \n",
        "\n",
        "result_1 = re.findall(pattern_1, text_3)\n",
        "result_2 = re.findall(pattern_2, text_3)\n",
        "result_3 = re.findall(pattern_3, text_3)\n",
        "result_4 = re.findall(pattern_4, text_3)\n"
      ],
      "execution_count": 0,
      "outputs": []
    },
    {
      "metadata": {
        "id": "PhPYlpeu-iIu",
        "colab_type": "code",
        "colab": {
          "base_uri": "https://localhost:8080/",
          "height": 35
        },
        "outputId": "60c88a24-ea51-4c88-b784-bae2effcadf9"
      },
      "cell_type": "code",
      "source": [
        "assert max(result_1, key=len) == 'accord'\n",
        "assert result_2 == ['King', 'ring', 'ring', 'ring']\n",
        "assert len(result_3) == 29\n",
        "assert len(result_4) == 45\n",
        "print(\"Well done!\")"
      ],
      "execution_count": 135,
      "outputs": [
        {
          "output_type": "stream",
          "text": [
            "Well done!\n"
          ],
          "name": "stdout"
        }
      ]
    },
    {
      "metadata": {
        "id": "C5yVCnGzSAmI",
        "colab_type": "code",
        "colab": {}
      },
      "cell_type": "code",
      "source": [
        ""
      ],
      "execution_count": 0,
      "outputs": []
    }
  ]
}